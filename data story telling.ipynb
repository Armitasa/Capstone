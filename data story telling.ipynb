{
 "cells": [
  {
   "cell_type": "markdown",
   "metadata": {},
   "source": [
    "Ask the following questions and look for the answers using code and plots:\n",
    "Can you count something interesting?\n",
    "Can you find trends (e.g. high, low, increasing, decreasing, anomalies)?\n",
    "Can you make a bar plot or a histogram?\n",
    "Can you compare two related quantities?\n",
    "Can you make a scatterplot?\n",
    "Can you make a time-series plot?\n",
    "Looking at the plots, what are some insights you can make? Do you see any correlations? Is there a hypothesis you’d like to investigate further? What other questions do the insights lead you to ask?\n",
    "Now that you’ve asked questions, hopefully you’ve found some interesting insights. Is there a narrative or a way of presenting the insights using text and plots that tells a compelling story? What are some other trends/relationships you think will make the story more complete?\n"
   ]
  },
  {
   "cell_type": "code",
   "execution_count": 11,
   "metadata": {},
   "outputs": [
    {
     "data": {
      "text/plain": [
       "ID                            2873\n",
       "LIMIT_BAL                     2873\n",
       "SEX                           2873\n",
       "EDUCATION                     2873\n",
       "MARRIAGE                      2873\n",
       "AGE                           2873\n",
       "PAY_0                         2873\n",
       "PAY_2                         2873\n",
       "PAY_3                         2873\n",
       "PAY_4                         2873\n",
       "PAY_5                         2873\n",
       "PAY_6                         2873\n",
       "BILL_AMT1                     2873\n",
       "BILL_AMT2                     2873\n",
       "BILL_AMT3                     2873\n",
       "BILL_AMT4                     2873\n",
       "BILL_AMT5                     2873\n",
       "BILL_AMT6                     2873\n",
       "PAY_AMT1                      2873\n",
       "PAY_AMT2                      2873\n",
       "PAY_AMT3                      2873\n",
       "PAY_AMT4                      2873\n",
       "PAY_AMT5                      2873\n",
       "PAY_AMT6                      2873\n",
       "default.payment.next.month    2873\n",
       "dtype: int64"
      ]
     },
     "execution_count": 11,
     "metadata": {},
     "output_type": "execute_result"
    }
   ],
   "source": [
    "#Can you count something interesting?\n",
    "#number of men vs women who default\n",
    "import pandas as pd\n",
    "\n",
    "df = pd.read_csv('/Users/armitasafavi/Downloads/UCI_Credit_Card 2.csv')\n",
    "\n",
    "male = df[df['SEX']==1]\n",
    "female = df[df['SEX']==2]\n",
    "\n",
    "male[male['default.payment.next.month']==1].count()"
   ]
  },
  {
   "cell_type": "code",
   "execution_count": 12,
   "metadata": {},
   "outputs": [
    {
     "data": {
      "text/plain": [
       "ID                            3763\n",
       "LIMIT_BAL                     3763\n",
       "SEX                           3763\n",
       "EDUCATION                     3763\n",
       "MARRIAGE                      3763\n",
       "AGE                           3763\n",
       "PAY_0                         3763\n",
       "PAY_2                         3763\n",
       "PAY_3                         3763\n",
       "PAY_4                         3763\n",
       "PAY_5                         3763\n",
       "PAY_6                         3763\n",
       "BILL_AMT1                     3763\n",
       "BILL_AMT2                     3763\n",
       "BILL_AMT3                     3763\n",
       "BILL_AMT4                     3763\n",
       "BILL_AMT5                     3763\n",
       "BILL_AMT6                     3763\n",
       "PAY_AMT1                      3763\n",
       "PAY_AMT2                      3763\n",
       "PAY_AMT3                      3763\n",
       "PAY_AMT4                      3763\n",
       "PAY_AMT5                      3763\n",
       "PAY_AMT6                      3763\n",
       "default.payment.next.month    3763\n",
       "dtype: int64"
      ]
     },
     "execution_count": 12,
     "metadata": {},
     "output_type": "execute_result"
    }
   ],
   "source": [
    "female[female['default.payment.next.month']==1].count()"
   ]
  },
  {
   "cell_type": "code",
   "execution_count": 15,
   "metadata": {},
   "outputs": [
    {
     "data": {
      "image/png": "[encoded data removed]",
      "text/plain": [
       "<matplotlib.figure.Figure at 0x1a0e293e48>"
      ]
     },
     "metadata": {},
     "output_type": "display_data"
    }
   ],
   "source": [
    "#Can you find trends (e.g. high, low, increasing, decreasing, anomalies)?\n",
    "#finding ouliners in limit balance\n",
    "import matplotlib.pyplot as plt\n",
    "import seaborn as sns\n",
    "sns.set(style=\"whitegrid\")\n",
    "ax= sns.boxplot(x =df['LIMIT_BAL'])\n"
   ]
  },
  {
   "cell_type": "code",
   "execution_count": 18,
   "metadata": {},
   "outputs": [
    {
     "data": {
      "image/png": "[encoded data removed]",
      "text/plain": [
       "<matplotlib.figure.Figure at 0x1a17264668>"
      ]
     },
     "metadata": {},
     "output_type": "display_data"
    }
   ],
   "source": [
    "#Can you make a bar plot or a histogram?\n",
    "\n",
    "\n",
    "plt.hist(df['AGE'], bins=25, color ='b', edgecolor=\"g\")\n",
    "plt.show()"
   ]
  },
  {
   "cell_type": "code",
   "execution_count": null,
   "metadata": {},
   "outputs": [],
   "source": [
    "#Can you compare two related quantities?"
   ]
  },
  {
   "cell_type": "code",
   "execution_count": 48,
   "metadata": {},
   "outputs": [
    {
     "data": {
      "image/png": "[encoded data removed]",
      "text/plain": [
       "<matplotlib.figure.Figure at 0x1a27f0ae48>"
      ]
     },
     "metadata": {},
     "output_type": "display_data"
    }
   ],
   "source": [
    "\n",
    "default = df[df['default.payment.next.month']==1]\n",
    "not_default = df[df['default.payment.next.month']==0]\n",
    "\n",
    "plt.hist(not_default['EDUCATION'], color ='y', edgecolor=\"k\")\n",
    "plt.hist(default['EDUCATION'], color ='b', edgecolor=\"k\")\n",
    "\n",
    "\n",
    "#plt.set_xticklabels(('graduate_school', 'university', 'high school', 'other', 'unknown','unknown'))\n",
    "\n",
    "plt.show()"
   ]
  },
  {
   "cell_type": "code",
   "execution_count": 52,
   "metadata": {},
   "outputs": [
    {
     "data": {
      "image/png": "[encoded data removed]",
      "text/plain": [
       "<matplotlib.figure.Figure at 0x1a19bed278>"
      ]
     },
     "metadata": {},
     "output_type": "display_data"
    }
   ],
   "source": [
    "#Can you make a scatterplot?\n",
    "\n",
    "\n",
    "plt.scatter(x = df['PAY_AMT6'], y = df['LIMIT_BAL'])\n",
    "plt.show()\n"
   ]
  },
  {
   "cell_type": "markdown",
   "metadata": {},
   "source": [
    "There seems to be a correlation between pay amounts and limit balance, as well as default payements.\n",
    "ses, marriage and education are all facors when it comes to the amount of limit balance."
   ]
  },
  {
   "cell_type": "code",
   "execution_count": null,
   "metadata": {},
   "outputs": [],
   "source": []
  },
  {
   "cell_type": "code",
   "execution_count": null,
   "metadata": {},
   "outputs": [],
   "source": []
  },
  {
   "cell_type": "code",
   "execution_count": null,
   "metadata": {},
   "outputs": [],
   "source": []
  }
 ],
 "metadata": {
  "kernelspec": {
   "display_name": "Python 3",
   "language": "python",
   "name": "python3"
  },
  "language_info": {
   "codemirror_mode": {
    "name": "ipython",
    "version": 3
   },
   "file_extension": ".py",
   "mimetype": "text/x-python",
   "name": "python",
   "nbconvert_exporter": "python",
   "pygments_lexer": "ipython3",
   "version": "3.6.4"
  }
 },
 "nbformat": 4,
 "nbformat_minor": 2
}
